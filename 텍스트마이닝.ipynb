{
 "cells": [
  {
   "cell_type": "code",
   "execution_count": 1,
   "metadata": {},
   "outputs": [
    {
     "name": "stderr",
     "output_type": "stream",
     "text": [
      "C:\\Users\\student\\Anaconda3\\lib\\importlib\\_bootstrap.py:219: RuntimeWarning: numpy.ufunc size changed, may indicate binary incompatibility. Expected 192 from C header, got 216 from PyObject\n",
      "  return f(*args, **kwds)\n",
      "C:\\Users\\student\\Anaconda3\\lib\\importlib\\_bootstrap.py:219: RuntimeWarning: numpy.ufunc size changed, may indicate binary incompatibility. Expected 192 from C header, got 216 from PyObject\n",
      "  return f(*args, **kwds)\n"
     ]
    }
   ],
   "source": [
    "from sklearn.datasets import fetch_20newsgroups"
   ]
  },
  {
   "cell_type": "code",
   "execution_count": 2,
   "metadata": {
    "scrolled": false
   },
   "outputs": [
    {
     "name": "stderr",
     "output_type": "stream",
     "text": [
      "Downloading 20news dataset. This may take a few minutes.\n",
      "Downloading dataset from https://ndownloader.figshare.com/files/5975967 (14 MB)\n"
     ]
    }
   ],
   "source": [
    "news_data = fetch_20newsgroups(subset='all', random_state=156)"
   ]
  },
  {
   "cell_type": "code",
   "execution_count": 5,
   "metadata": {},
   "outputs": [
    {
     "data": {
      "text/plain": [
       "['alt.atheism',\n",
       " 'comp.graphics',\n",
       " 'comp.os.ms-windows.misc',\n",
       " 'comp.sys.ibm.pc.hardware',\n",
       " 'comp.sys.mac.hardware',\n",
       " 'comp.windows.x',\n",
       " 'misc.forsale',\n",
       " 'rec.autos',\n",
       " 'rec.motorcycles',\n",
       " 'rec.sport.baseball',\n",
       " 'rec.sport.hockey',\n",
       " 'sci.crypt',\n",
       " 'sci.electronics',\n",
       " 'sci.med',\n",
       " 'sci.space',\n",
       " 'soc.religion.christian',\n",
       " 'talk.politics.guns',\n",
       " 'talk.politics.mideast',\n",
       " 'talk.politics.misc',\n",
       " 'talk.religion.misc']"
      ]
     },
     "execution_count": 5,
     "metadata": {},
     "output_type": "execute_result"
    }
   ],
   "source": [
    "news_data.target_names"
   ]
  },
  {
   "cell_type": "code",
   "execution_count": 8,
   "metadata": {},
   "outputs": [
    {
     "name": "stdout",
     "output_type": "stream",
     "text": [
      "From: jlevine@rd.hydro.on.ca (Jody Levine)\n",
      "Subject: Re: insect impacts\n",
      "Organization: Ontario Hydro - Research Division\n",
      "Lines: 64\n",
      "\n",
      "I feel childish.\n",
      "\n",
      "In article <1ppvds$92a@seven-up.East.Sun.COM> egreen@East.Sun.COM writes:\n",
      ">In article 7290@rd.hydro.on.ca, jlevine@rd.hydro.on.ca (Jody Levine) writes:\n",
      ">>>>\n",
      ">>>>how _do_ the helmetless do it?\n",
      ">>>\n",
      ">>>Um, the same way people do it on \n",
      ">>>horseback\n",
      ">>\n",
      ">>not as fast, and they would probably enjoy eating bugs, anyway\n",
      ">\n",
      ">Every bit as fast as a dirtbike, in the right terrain.  And we eat\n",
      ">flies, thank you.\n",
      "\n",
      "Who mentioned dirtbikes? We're talking highway speeds here. If you go 70mph\n",
      "on your dirtbike then feel free to contribute.\n",
      "\n",
      ">>>jeeps\n",
      ">>\n",
      ">>you're *supposed* to keep the windscreen up\n",
      ">\n",
      ">then why does it go down?\n",
      "\n",
      "Because it wouldn't be a Jeep if it didn't. A friend of mine just bought one\n",
      "and it has more warning stickers than those little 4-wheelers (I guess that's\n",
      "becuase it's a big 4 wheeler). Anyway, it's written in about ten places that\n",
      "the windshield should remain up at all times, and it looks like they've made\n",
      "it a pain to put it down anyway, from what he says. To be fair, I do admit\n",
      "that it would be a similar matter to drive a windscreenless Jeep on the \n",
      "highway as for bikers. They may participate in this discussion, but they're\n",
      "probably few and far between, so I maintain that this topic is of interest\n",
      "primarily to bikers.\n",
      "\n",
      ">>>snow skis\n",
      ">>\n",
      ">>NO BUGS, and most poeple who go fast wear goggles\n",
      ">\n",
      ">So do most helmetless motorcyclists.\n",
      "\n",
      "Notice how Ed picked on the more insignificant (the lower case part) of the \n",
      "two parts of the statement. Besides, around here it is quite rare to see \n",
      "bikers wear goggles on the street. It's either full face with shield, or \n",
      "open face with either nothing or aviator sunglasses. My experience of \n",
      "bicycling with contact lenses and sunglasses says that non-wraparound \n",
      "sunglasses do almost nothing to keep the crap out of ones eyes.\n",
      "\n",
      ">>The question still stands. How do cruiser riders with no or negligible helmets\n",
      ">>stand being on the highway at 75 mph on buggy, summer evenings?\n",
      ">\n",
      ">helmetless != goggleless\n",
      "\n",
      "Ok, ok, fine, whatever you say, but lets make some attmept to stick to the\n",
      "point. I've been out on the road where I had to stop every half hour to clean\n",
      "my shield there were so many bugs (and my jacket would be a blood-splattered\n",
      "mess) and I'd see guys with shorty helmets, NO GOGGLES, long beards and tight\n",
      "t-shirts merrily cruising along on bikes with no windscreens. Lets be really\n",
      "specific this time, so that even Ed understands. Does anbody think that \n",
      "splattering bugs with one's face is fun, or are there other reasons to do it?\n",
      "Image? Laziness? To make a point about freedom of bug splattering?\n",
      "\n",
      "I've        bike                      like       | Jody Levine  DoD #275 kV\n",
      "     got a       you can        if you      -PF  | Jody.P.Levine@hydro.on.ca\n",
      "                         ride it                 | Toronto, Ontario, Canada\n",
      "\n"
     ]
    }
   ],
   "source": [
    "print(news_data.data[1])"
   ]
  },
  {
   "cell_type": "code",
   "execution_count": 9,
   "metadata": {},
   "outputs": [],
   "source": [
    "train_news = fetch_20newsgroups(subset='train', remove=('headers','footers','qutoes'), random_state=156)"
   ]
  },
  {
   "cell_type": "code",
   "execution_count": 10,
   "metadata": {},
   "outputs": [],
   "source": [
    "X_train = train_news.data\n",
    "y_train = train_news.target"
   ]
  },
  {
   "cell_type": "code",
   "execution_count": 13,
   "metadata": {},
   "outputs": [],
   "source": [
    "test_news = fetch_20newsgroups(subset='test', remove=('headers','footers','qutoes'), random_state=156)\n",
    "X_test = test_news.data\n",
    "y_test = test_news.target"
   ]
  },
  {
   "cell_type": "code",
   "execution_count": 14,
   "metadata": {},
   "outputs": [
    {
     "data": {
      "text/plain": [
       "7532"
      ]
     },
     "execution_count": 14,
     "metadata": {},
     "output_type": "execute_result"
    }
   ],
   "source": [
    "len(X_test)"
   ]
  },
  {
   "cell_type": "code",
   "execution_count": 15,
   "metadata": {},
   "outputs": [
    {
     "data": {
      "text/plain": [
       "11314"
      ]
     },
     "execution_count": 15,
     "metadata": {},
     "output_type": "execute_result"
    }
   ],
   "source": [
    "len(X_train)"
   ]
  },
  {
   "cell_type": "code",
   "execution_count": 17,
   "metadata": {},
   "outputs": [
    {
     "data": {
      "text/plain": [
       "CountVectorizer(analyzer='word', binary=False, decode_error='strict',\n",
       "                dtype=<class 'numpy.int64'>, encoding='utf-8', input='content',\n",
       "                lowercase=True, max_df=1.0, max_features=None, min_df=1,\n",
       "                ngram_range=(1, 1), preprocessor=None, stop_words=None,\n",
       "                strip_accents=None, token_pattern='(?u)\\\\b\\\\w\\\\w+\\\\b',\n",
       "                tokenizer=None, vocabulary=None)"
      ]
     },
     "execution_count": 17,
     "metadata": {},
     "output_type": "execute_result"
    }
   ],
   "source": [
    "from sklearn.feature_extraction.text import CountVectorizer\n",
    "\n",
    "cnt_vect = CountVectorizer()\n",
    "cnt_vect.fit(X_train, y_train)"
   ]
  },
  {
   "cell_type": "code",
   "execution_count": 19,
   "metadata": {},
   "outputs": [
    {
     "data": {
      "text/plain": [
       "(11314, 114751)"
      ]
     },
     "execution_count": 19,
     "metadata": {},
     "output_type": "execute_result"
    }
   ],
   "source": [
    "X_train_cnt_vect = cnt_vect.transform(X_train)\n",
    "X_train_cnt_vect.shape"
   ]
  },
  {
   "cell_type": "code",
   "execution_count": 20,
   "metadata": {},
   "outputs": [
    {
     "data": {
      "text/plain": [
       "(7532, 114751)"
      ]
     },
     "execution_count": 20,
     "metadata": {},
     "output_type": "execute_result"
    }
   ],
   "source": [
    "X_test_cnt_vect = cnt_vect.transform(X_test)\n",
    "X_test_cnt_vect.shape"
   ]
  },
  {
   "cell_type": "code",
   "execution_count": 24,
   "metadata": {
    "scrolled": true
   },
   "outputs": [
    {
     "name": "stderr",
     "output_type": "stream",
     "text": [
      "C:\\Users\\student\\Anaconda3\\lib\\site-packages\\sklearn\\linear_model\\logistic.py:432: FutureWarning: Default solver will be changed to 'lbfgs' in 0.22. Specify a solver to silence this warning.\n",
      "  FutureWarning)\n",
      "C:\\Users\\student\\Anaconda3\\lib\\site-packages\\sklearn\\linear_model\\logistic.py:469: FutureWarning: Default multi_class will be changed to 'auto' in 0.22. Specify the multi_class option to silence this warning.\n",
      "  \"this warning.\", FutureWarning)\n"
     ]
    },
    {
     "data": {
      "text/plain": [
       "0.7310143388210303"
      ]
     },
     "execution_count": 24,
     "metadata": {},
     "output_type": "execute_result"
    }
   ],
   "source": [
    "from sklearn.linear_model import LogisticRegression\n",
    "from sklearn.metrics import accuracy_score\n",
    "\n",
    "lr_clf = LogisticRegression()\n",
    "lr_clf.fit(X_train_cnt_vect, y_train)\n",
    "pred = lr_clf.predict(X_test_cnt_vect)\n",
    "\n",
    "accuracy_score(y_test, pred)"
   ]
  },
  {
   "cell_type": "code",
   "execution_count": null,
   "metadata": {},
   "outputs": [],
   "source": []
  }
 ],
 "metadata": {
  "kernelspec": {
   "display_name": "Python 3",
   "language": "python",
   "name": "python3"
  },
  "language_info": {
   "codemirror_mode": {
    "name": "ipython",
    "version": 3
   },
   "file_extension": ".py",
   "mimetype": "text/x-python",
   "name": "python",
   "nbconvert_exporter": "python",
   "pygments_lexer": "ipython3",
   "version": "3.7.4"
  }
 },
 "nbformat": 4,
 "nbformat_minor": 2
}
