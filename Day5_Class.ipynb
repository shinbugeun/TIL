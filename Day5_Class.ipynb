{
 "cells": [
  {
   "cell_type": "code",
   "execution_count": 14,
   "metadata": {},
   "outputs": [],
   "source": [
    "class Student:\n",
    "    def __init__(self,h,sname,k,e,m):\n",
    "        self.haknum = h\n",
    "        self.sname = \"홍길동\"\n",
    "        self.kor=k\n",
    "        self.eng=e\n",
    "        self.math=m\n",
    "        self.total=0\n",
    "        \n",
    "    def add(self):\n",
    "        self.total=self.kor+self.eng+self.math\n",
    "        return  self.total\n",
    "        \n",
    "    \n",
    "    def display(self):\n",
    "        self.add()\n",
    "        print(self.sname,\":\",self.total)\n",
    "        pass"
   ]
  },
  {
   "cell_type": "code",
   "execution_count": 16,
   "metadata": {},
   "outputs": [
    {
     "name": "stdout",
     "output_type": "stream",
     "text": [
      "홍길동 : 115\n",
      "홍길동 : 120\n"
     ]
    }
   ],
   "source": [
    "s1=Student(h=1,sname=\"홍길동\",k=25,e=34,m=56)\n",
    "s1.display()\n",
    "\n",
    "s1=Student(h=2,sname=\"홍길동\",k=30,e=34,m=56)\n",
    "s1.display()"
   ]
  },
  {
   "cell_type": "code",
   "execution_count": 18,
   "metadata": {},
   "outputs": [
    {
     "name": "stdout",
     "output_type": "stream",
     "text": [
      "홍길동 : 115\n"
     ]
    }
   ],
   "source": [
    "class FStudent(Student):\n",
    "    pass\n",
    "\n",
    "fs = FStudent(h=1,sname=\"홍길동\",k=25,e=34,m=56)\n",
    "fs.display()"
   ]
  },
  {
   "cell_type": "code",
   "execution_count": 24,
   "metadata": {},
   "outputs": [
    {
     "name": "stdout",
     "output_type": "stream",
     "text": [
      "총점: 115\n"
     ]
    }
   ],
   "source": [
    "class FStudent(Student):\n",
    "    \n",
    "    def display(self):\n",
    "        self.add()\n",
    "        print(\"총점:\",self.total)\n",
    "        \n",
    "fs = FStudent(h=1,sname=\"홍길동\",k=25,e=34,m=56)\n",
    "fs.display()"
   ]
  },
  {
   "cell_type": "code",
   "execution_count": 20,
   "metadata": {},
   "outputs": [
    {
     "name": "stdout",
     "output_type": "stream",
     "text": [
      "7\n"
     ]
    }
   ],
   "source": [
    "import mod1\n",
    "print(mod1.add(3,4))"
   ]
  },
  {
   "cell_type": "code",
   "execution_count": 22,
   "metadata": {},
   "outputs": [
    {
     "data": {
      "text/plain": [
       "7"
      ]
     },
     "execution_count": 22,
     "metadata": {},
     "output_type": "execute_result"
    }
   ],
   "source": [
    "from mod1 import add\n",
    "add(3,4)"
   ]
  },
  {
   "cell_type": "code",
   "execution_count": null,
   "metadata": {},
   "outputs": [],
   "source": []
  }
 ],
 "metadata": {
  "kernelspec": {
   "display_name": "Python 3",
   "language": "python",
   "name": "python3"
  },
  "language_info": {
   "codemirror_mode": {
    "name": "ipython",
    "version": 3
   },
   "file_extension": ".py",
   "mimetype": "text/x-python",
   "name": "python",
   "nbconvert_exporter": "python",
   "pygments_lexer": "ipython3",
   "version": "3.7.4"
  }
 },
 "nbformat": 4,
 "nbformat_minor": 2
}
